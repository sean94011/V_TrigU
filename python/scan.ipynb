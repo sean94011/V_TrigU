{
 "cells": [
  {
   "cell_type": "code",
   "execution_count": 19,
   "metadata": {},
   "outputs": [],
   "source": [
    "# import libraries\n",
    "import datetime\n",
    "import os\n",
    "import time\n",
    "import serial\n",
    "from math import ceil, log\n",
    "\n",
    "import matplotlib.pyplot as plt\n",
    "import numpy as np\n",
    "import vtrigU as vtrig\n",
    "from numpy.linalg import norm\n",
    "from scipy import constants\n",
    "\n",
    "from vtrigU_helper_functions import *\n",
    "\n",
    "# define some constants\n",
    "c = constants.c\n",
    "antsLocations = ants_locations()"
   ]
  },
  {
   "cell_type": "code",
   "execution_count": 76,
   "metadata": {},
   "outputs": [],
   "source": [
    "# connect to the motionstage\n",
    "arduino = serial.Serial(port='COM3', baudrate=9600, timeout=90)\n",
    "\n",
    "def write_read(x):\n",
    "    arduino.write(bytes(x, 'utf-8'))\n",
    "    time.sleep(0.05)"
   ]
  },
  {
   "cell_type": "code",
   "execution_count": 80,
   "metadata": {},
   "outputs": [],
   "source": [
    "# close the motion stage if necessary\n",
    "arduino.close()"
   ]
  },
  {
   "cell_type": "code",
   "execution_count": 27,
   "metadata": {},
   "outputs": [
    {
     "name": "stdout",
     "output_type": "stream",
     "text": [
      "69.0\n",
      "Rres = 0.021413747 m\n",
      "Rmax = 3.21206205 m\n"
     ]
    }
   ],
   "source": [
    "# Compute resolution & max range\n",
    "# Rmax = 4\n",
    "BW = 7e9\n",
    "Rmax = 75*c/BW\n",
    "print(62.0+BW/1000000000)\n",
    "Rres = c/(2*BW)\n",
    "print(f\"Rres = {Rres} m\")\n",
    "print(f\"Rmax = {Rmax} m\")"
   ]
  },
  {
   "cell_type": "code",
   "execution_count": 86,
   "metadata": {},
   "outputs": [],
   "source": [
    "# initialize the device\n",
    "vtrig.Init()\n",
    "\n",
    "# set setting structure\n",
    "vtrigSettings = vtrig.RecordingSettings(\n",
    "        vtrig.FrequencyRange(62.0*1000, # Start Frequency (in MHz)\n",
    "                             69.0*1000, # Stop  Frequency (in MHz) (66.5 for 5m) (68.0 for 3m)\n",
    "                             150),      # Number of Frequency Points (Maximum: 150)\n",
    "        510.0,                           # RBW (in KHz)\n",
    "        vtrig.VTRIG_U_TXMODE__LOW_RATE  # Tx Mode (LOW: 20 Tx, MED: 10 Tx, HIGH: 4 Tx)\n",
    "        ) \n",
    "\n",
    "# validate settings\n",
    "vtrig.ValidateSettings(vtrigSettings)\n",
    "\n",
    "# apply settings\n",
    "vtrig.ApplySettings(vtrigSettings)\n",
    "\n",
    "# get antenna pairs and convert to numpy matrix\n",
    "TxRxPairs = np.array(vtrig.GetAntennaPairs(vtrigSettings.mode))\n",
    "\n",
    "# get used frequencies in Hz\n",
    "freq = np.array(vtrig.GetFreqVector_MHz()) * 1e6\n",
    "\n",
    "# define constants\n",
    "N_txrx = TxRxPairs.shape[0]\n",
    "N_freq = freq.shape[0]\n",
    "\n",
    "Nfft = 2**(ceil(log(freq.shape[0],2))+1)\n",
    "Ts = 1/Nfft/(freq[1]-freq[0]+1e-16) # Avoid nan checks\n",
    "time_vec = np.linspace(0,Ts*(Nfft-1),num=Nfft)\n",
    "dist_vec = time_vec*(c/2) # distance in meters\n",
    "\n",
    "np.save(\"./constants/freq.npy\",freq)\n",
    "np.save(\"./constants/TxRxPairs.npy\", TxRxPairs)"
   ]
  },
  {
   "cell_type": "code",
   "execution_count": 58,
   "metadata": {},
   "outputs": [
    {
     "ename": "SerialException",
     "evalue": "WriteFile failed (PermissionError(13, 'The device does not recognize the command.', None, 22))",
     "output_type": "error",
     "traceback": [
      "\u001b[1;31m---------------------------------------------------------------------------\u001b[0m",
      "\u001b[1;31mSerialException\u001b[0m                           Traceback (most recent call last)",
      "\u001b[1;32m~\\AppData\\Local\\Temp\\ipykernel_9024\\1225010040.py\u001b[0m in \u001b[0;36m<module>\u001b[1;34m\u001b[0m\n\u001b[1;32m----> 1\u001b[1;33m \u001b[0mwrite_read\u001b[0m\u001b[1;33m(\u001b[0m\u001b[1;34m\"100\"\u001b[0m\u001b[1;33m)\u001b[0m\u001b[1;33m\u001b[0m\u001b[1;33m\u001b[0m\u001b[0m\n\u001b[0m",
      "\u001b[1;32m~\\AppData\\Local\\Temp\\ipykernel_9024\\2821840369.py\u001b[0m in \u001b[0;36mwrite_read\u001b[1;34m(x)\u001b[0m\n\u001b[0;32m      3\u001b[0m \u001b[1;33m\u001b[0m\u001b[0m\n\u001b[0;32m      4\u001b[0m \u001b[1;32mdef\u001b[0m \u001b[0mwrite_read\u001b[0m\u001b[1;33m(\u001b[0m\u001b[0mx\u001b[0m\u001b[1;33m)\u001b[0m\u001b[1;33m:\u001b[0m\u001b[1;33m\u001b[0m\u001b[1;33m\u001b[0m\u001b[0m\n\u001b[1;32m----> 5\u001b[1;33m     \u001b[0marduino\u001b[0m\u001b[1;33m.\u001b[0m\u001b[0mwrite\u001b[0m\u001b[1;33m(\u001b[0m\u001b[0mbytes\u001b[0m\u001b[1;33m(\u001b[0m\u001b[0mx\u001b[0m\u001b[1;33m,\u001b[0m \u001b[1;34m'utf-8'\u001b[0m\u001b[1;33m)\u001b[0m\u001b[1;33m)\u001b[0m\u001b[1;33m\u001b[0m\u001b[1;33m\u001b[0m\u001b[0m\n\u001b[0m\u001b[0;32m      6\u001b[0m     \u001b[0mtime\u001b[0m\u001b[1;33m.\u001b[0m\u001b[0msleep\u001b[0m\u001b[1;33m(\u001b[0m\u001b[1;36m0.05\u001b[0m\u001b[1;33m)\u001b[0m\u001b[1;33m\u001b[0m\u001b[1;33m\u001b[0m\u001b[0m\n",
      "\u001b[1;32mc:\\Users\\SCKY\\.conda\\envs\\vtrigU\\lib\\site-packages\\serial\\serialwin32.py\u001b[0m in \u001b[0;36mwrite\u001b[1;34m(self, data)\u001b[0m\n\u001b[0;32m    315\u001b[0m             \u001b[1;32mif\u001b[0m \u001b[0mself\u001b[0m\u001b[1;33m.\u001b[0m\u001b[0m_write_timeout\u001b[0m \u001b[1;33m!=\u001b[0m \u001b[1;36m0\u001b[0m\u001b[1;33m:\u001b[0m  \u001b[1;31m# if blocking (None) or w/ write timeout (>0)\u001b[0m\u001b[1;33m\u001b[0m\u001b[1;33m\u001b[0m\u001b[0m\n\u001b[0;32m    316\u001b[0m                 \u001b[1;32mif\u001b[0m \u001b[1;32mnot\u001b[0m \u001b[0msuccess\u001b[0m \u001b[1;32mand\u001b[0m \u001b[0mwin32\u001b[0m\u001b[1;33m.\u001b[0m\u001b[0mGetLastError\u001b[0m\u001b[1;33m(\u001b[0m\u001b[1;33m)\u001b[0m \u001b[1;32mnot\u001b[0m \u001b[1;32min\u001b[0m \u001b[1;33m(\u001b[0m\u001b[0mwin32\u001b[0m\u001b[1;33m.\u001b[0m\u001b[0mERROR_SUCCESS\u001b[0m\u001b[1;33m,\u001b[0m \u001b[0mwin32\u001b[0m\u001b[1;33m.\u001b[0m\u001b[0mERROR_IO_PENDING\u001b[0m\u001b[1;33m)\u001b[0m\u001b[1;33m:\u001b[0m\u001b[1;33m\u001b[0m\u001b[1;33m\u001b[0m\u001b[0m\n\u001b[1;32m--> 317\u001b[1;33m                     \u001b[1;32mraise\u001b[0m \u001b[0mSerialException\u001b[0m\u001b[1;33m(\u001b[0m\u001b[1;34m\"WriteFile failed ({!r})\"\u001b[0m\u001b[1;33m.\u001b[0m\u001b[0mformat\u001b[0m\u001b[1;33m(\u001b[0m\u001b[0mctypes\u001b[0m\u001b[1;33m.\u001b[0m\u001b[0mWinError\u001b[0m\u001b[1;33m(\u001b[0m\u001b[1;33m)\u001b[0m\u001b[1;33m)\u001b[0m\u001b[1;33m)\u001b[0m\u001b[1;33m\u001b[0m\u001b[1;33m\u001b[0m\u001b[0m\n\u001b[0m\u001b[0;32m    318\u001b[0m \u001b[1;33m\u001b[0m\u001b[0m\n\u001b[0;32m    319\u001b[0m                 \u001b[1;31m# Wait for the write to complete.\u001b[0m\u001b[1;33m\u001b[0m\u001b[1;33m\u001b[0m\u001b[1;33m\u001b[0m\u001b[0m\n",
      "\u001b[1;31mSerialException\u001b[0m: WriteFile failed (PermissionError(13, 'The device does not recognize the command.', None, 22))"
     ]
    }
   ],
   "source": [
    "write_read(\"100\")"
   ]
  },
  {
   "cell_type": "code",
   "execution_count": 89,
   "metadata": {},
   "outputs": [
    {
     "name": "stdout",
     "output_type": "stream",
     "text": [
      "calibrating...\n",
      "calibration matrix collected!\n"
     ]
    }
   ],
   "source": [
    "# Record the calibration frames\n",
    "print(\"calibrating...\")\n",
    "nrecs = 10\n",
    "calFrame = []\n",
    "for i in range(nrecs):\n",
    "    vtrig.Record()\n",
    "    rec = vtrig.GetRecordingResult()\n",
    "    recArr = rec2arr(rec)\n",
    "    calFrame.append(recArr)\n",
    "calFrame = np.mean(calFrame,axis=0)\n",
    "print(\"calibration matrix collected!\")"
   ]
  },
  {
   "cell_type": "code",
   "execution_count": 96,
   "metadata": {},
   "outputs": [
    {
     "name": "stdout",
     "output_type": "stream",
     "text": [
      "recording...\n",
      "record done!\n"
     ]
    }
   ],
   "source": [
    "# define how many frames for the recording\n",
    "nframes = 100\n",
    "# np.save(\"./constants/nframes.npy\",nframes)\n",
    "\n",
    "# write_read(\"-450\")\n",
    "# Record\n",
    "print(\"recording...\")\n",
    "recArrs = []\n",
    "for i in range(nframes):\n",
    "    # write_read(str(motion_stage[i]))\n",
    "    vtrig.Record()\n",
    "    rec = vtrig.GetRecordingResult()\n",
    "    recArrs.append(rec2arr(rec))\n",
    "print(\"record done!\")"
   ]
  },
  {
   "cell_type": "code",
   "execution_count": 97,
   "metadata": {},
   "outputs": [
    {
     "name": "stdout",
     "output_type": "stream",
     "text": [
      "saving collected data...\n",
      "done!\n"
     ]
    }
   ],
   "source": [
    "#human 1.3m\n",
    "fname = \"./data/human_straight\"\n",
    "cur_time = datetime.datetime.now()\n",
    "print(\"saving collected data...\")\n",
    "np.save(f\"{fname}/raw_data/calibration.npy\",calFrame)\n",
    "np.save(f\"{fname}/raw_data/recording.npy\",recArrs)\n",
    "print(\"done!\")"
   ]
  },
  {
   "cell_type": "code",
   "execution_count": 1,
   "metadata": {},
   "outputs": [
    {
     "name": "stdout",
     "output_type": "stream",
     "text": [
      "/Users/seanyao/Documents/Graduate_Research/V_TrigU/python\n"
     ]
    }
   ],
   "source": [
    "!pwd"
   ]
  },
  {
   "cell_type": "code",
   "execution_count": null,
   "metadata": {},
   "outputs": [],
   "source": []
  }
 ],
 "metadata": {
  "kernelspec": {
   "display_name": "vtrigU",
   "language": "python",
   "name": "python3"
  },
  "language_info": {
   "codemirror_mode": {
    "name": "ipython",
    "version": 3
   },
   "file_extension": ".py",
   "mimetype": "text/x-python",
   "name": "python",
   "nbconvert_exporter": "python",
   "pygments_lexer": "ipython3",
   "version": "3.7.13"
  },
  "orig_nbformat": 4,
  "vscode": {
   "interpreter": {
    "hash": "ce6c9480ead5806d8707fdf471c1b51fe005d6c1ebdb4d48a9223ca8376afc8a"
   }
  }
 },
 "nbformat": 4,
 "nbformat_minor": 2
}
