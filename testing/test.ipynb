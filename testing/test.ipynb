{
 "cells": [
  {
   "cell_type": "code",
   "execution_count": 2,
   "id": "eeaeaa88",
   "metadata": {},
   "outputs": [],
   "source": [
    "# Load Modules\n",
    "import vtrigU\n",
    "import numpy as np"
   ]
  },
  {
   "cell_type": "code",
   "execution_count": 8,
   "id": "8dea5536",
   "metadata": {},
   "outputs": [
    {
     "ename": "NameError",
     "evalue": "name 'settings' is not defined",
     "output_type": "error",
     "traceback": [
      "\u001b[1;31m---------------------------------------------------------------------------\u001b[0m",
      "\u001b[1;31mNameError\u001b[0m                                 Traceback (most recent call last)",
      "\u001b[1;32m~\\AppData\\Local\\Temp\\ipykernel_11048\\1323188049.py\u001b[0m in \u001b[0;36m<module>\u001b[1;34m\u001b[0m\n\u001b[0;32m     11\u001b[0m \u001b[1;33m\u001b[0m\u001b[0m\n\u001b[0;32m     12\u001b[0m \u001b[1;31m# Get Settings\u001b[0m\u001b[1;33m\u001b[0m\u001b[1;33m\u001b[0m\u001b[1;33m\u001b[0m\u001b[0m\n\u001b[1;32m---> 13\u001b[1;33m \u001b[0mcurrent\u001b[0m \u001b[1;33m=\u001b[0m \u001b[0mvtrigU\u001b[0m\u001b[1;33m.\u001b[0m\u001b[0mGetSettings\u001b[0m\u001b[1;33m(\u001b[0m\u001b[1;33m)\u001b[0m\u001b[1;33m\u001b[0m\u001b[1;33m\u001b[0m\u001b[0m\n\u001b[0m",
      "\u001b[1;32m~\\.conda\\envs\\vtrigu\\lib\\site-packages\\vtrigU.py\u001b[0m in \u001b[0;36mGetSettings\u001b[1;34m()\u001b[0m\n\u001b[0;32m    179\u001b[0m     \u001b[0mc_settings\u001b[0m \u001b[1;33m=\u001b[0m \u001b[0m_Ctypes_RecordingSettings\u001b[0m\u001b[1;33m(\u001b[0m\u001b[1;33m)\u001b[0m\u001b[1;33m\u001b[0m\u001b[1;33m\u001b[0m\u001b[0m\n\u001b[0;32m    180\u001b[0m     \u001b[0m_RaiseIfErr\u001b[0m\u001b[1;33m(\u001b[0m\u001b[0mGetSettings\u001b[0m\u001b[1;33m.\u001b[0m\u001b[0m__name__\u001b[0m\u001b[1;33m,\u001b[0m \u001b[0m_vtrig\u001b[0m\u001b[1;33m.\u001b[0m\u001b[0mvtrigU_GetSettings\u001b[0m\u001b[1;33m(\u001b[0m\u001b[0mc_settings\u001b[0m\u001b[1;33m)\u001b[0m\u001b[1;33m)\u001b[0m\u001b[1;33m\u001b[0m\u001b[1;33m\u001b[0m\u001b[0m\n\u001b[1;32m--> 181\u001b[1;33m     \u001b[1;32mreturn\u001b[0m \u001b[0m__CSettings2PySettings\u001b[0m\u001b[1;33m(\u001b[0m\u001b[0mc_settings\u001b[0m\u001b[1;33m)\u001b[0m\u001b[1;33m\u001b[0m\u001b[1;33m\u001b[0m\u001b[0m\n\u001b[0m\u001b[0;32m    182\u001b[0m \u001b[1;33m\u001b[0m\u001b[0m\n\u001b[0;32m    183\u001b[0m \u001b[1;32mdef\u001b[0m \u001b[0mGetFreqVector_MHz\u001b[0m\u001b[1;33m(\u001b[0m\u001b[1;33m)\u001b[0m\u001b[1;33m:\u001b[0m\u001b[1;33m\u001b[0m\u001b[1;33m\u001b[0m\u001b[0m\n",
      "\u001b[1;32m~\\.conda\\envs\\vtrigu\\lib\\site-packages\\vtrigU.py\u001b[0m in \u001b[0;36m__CSettings2PySettings\u001b[1;34m(c_settings)\u001b[0m\n\u001b[0;32m    169\u001b[0m             \u001b[0mc_settings\u001b[0m\u001b[1;33m.\u001b[0m\u001b[0mfreqRange\u001b[0m\u001b[1;33m.\u001b[0m\u001b[0mfreqStopMHz\u001b[0m\u001b[1;33m,\u001b[0m\u001b[1;33m\u001b[0m\u001b[1;33m\u001b[0m\u001b[0m\n\u001b[0;32m    170\u001b[0m             c_settings.freqRange.numFreqPoints),\n\u001b[1;32m--> 171\u001b[1;33m         c_settings.rbw_khz, settings.mode)\n\u001b[0m\u001b[0;32m    172\u001b[0m \u001b[1;33m\u001b[0m\u001b[0m\n\u001b[0;32m    173\u001b[0m \u001b[1;32mdef\u001b[0m \u001b[0mApplySettings\u001b[0m\u001b[1;33m(\u001b[0m\u001b[0msettings\u001b[0m\u001b[1;33m)\u001b[0m\u001b[1;33m:\u001b[0m\u001b[1;33m\u001b[0m\u001b[1;33m\u001b[0m\u001b[0m\n",
      "\u001b[1;31mNameError\u001b[0m: name 'settings' is not defined"
     ]
    }
   ],
   "source": [
    "# Initialize the library; connect to device\n",
    "vtrigU.Init()\n",
    "\n",
    "# Define Settings\n",
    "settings = vtrigU.RecordingSettings(vtrigU.FrequencyRange(65.0*1000, 66.0*1000, 21),\n",
    "                                   30.0, #RBW\n",
    "                                   vtrigU.VTRIG_U_TXMODE__LOW_RATE)\n",
    "\n",
    "# Apply Settings\n",
    "vtrigU.ApplySettings(settings)\n",
    "\n",
    "# Get Settings\n",
    "current = vtrigU.GetSettings()"
   ]
  },
  {
   "cell_type": "code",
   "execution_count": null,
   "id": "da6b86db",
   "metadata": {},
   "outputs": [],
   "source": []
  }
 ],
 "metadata": {
  "kernelspec": {
   "display_name": "Python 3 (ipykernel)",
   "language": "python",
   "name": "python3"
  },
  "language_info": {
   "codemirror_mode": {
    "name": "ipython",
    "version": 3
   },
   "file_extension": ".py",
   "mimetype": "text/x-python",
   "name": "python",
   "nbconvert_exporter": "python",
   "pygments_lexer": "ipython3",
   "version": "3.7.13"
  }
 },
 "nbformat": 4,
 "nbformat_minor": 5
}
