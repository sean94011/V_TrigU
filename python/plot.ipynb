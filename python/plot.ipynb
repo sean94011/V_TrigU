{
 "cells": [
  {
   "cell_type": "code",
   "execution_count": null,
   "metadata": {},
   "outputs": [],
   "source": [
    "# import libraries\n",
    "import vtrigU as vtrig\n",
    "import numpy as np\n",
    "import matplotlib.pyplot as plt\n",
    "import matplotlib.animation as animation\n",
    "import time\n",
    "import os\n",
    "import datetime\n",
    "from numpy.linalg import norm\n",
    "from math import ceil, log\n",
    "from matplotlib.animation import FuncAnimation\n",
    "from scipy import constants\n",
    "from vtrigU_helper_functions import *\n",
    "from IPython.display import display, clear_output\n",
    "from mpl_toolkits.mplot3d import Axes3D\n",
    "\n",
    "# for creating a responsive plot\n",
    "%matplotlib widget"
   ]
  },
  {
   "cell_type": "code",
   "execution_count": null,
   "metadata": {},
   "outputs": [],
   "source": [
    "# load data\n",
    "freq = np.load(\"./constants/freq.npy\")\n",
    "TxRxPairs = np.load(\"./constants/TxRxPairs.npy\")\n",
    "y_cart = np.load(\"f{cur_folder}/processed_data/y_cart_{frame}.npy\")\n",
    "X = np.load(\"f{cur_folder}/processed_data/X_{frame}.npy\")\n",
    "\n",
    "# define constants\n",
    "c = constants.c\n",
    "N_txrx = TxRxPairs.shape[0]\n",
    "N_freq = freq.shape[0]\n",
    "\n",
    "Nfft = 2**(ceil(log(freq.shape[0],2))+1)\n",
    "Ts = 1/Nfft/(freq[1]-freq[0]+1e-16) # Avoid nan checks\n",
    "time_vec = np.linspace(0,Ts*(Nfft-1),num=Nfft)\n",
    "dist_vec = time_vec*(c/2) # distance in meters\n",
    "\n",
    "# define grid\n",
    "xgrid = np.arange(-0.2, 0.2+0.025, 0.0215)\n",
    "ygrid = np.arange(-0.2, 0.2+0.025, 0.0215)\n",
    "zgrid = np.arange( 0.05, 1+0.025,   0.0215)\n",
    "\n",
    "[Xgrid,Ygrid,Zgrid] = np.meshgrid(xgrid,ygrid,zgrid)"
   ]
  },
  {
   "cell_type": "code",
   "execution_count": null,
   "metadata": {},
   "outputs": [],
   "source": [
    "directory = \"./data\"\n",
    "scenario = \"diagonal\"\n",
    "cur_folder = f\"{directory}/{scenario}\"\n",
    "frame = 1"
   ]
  },
  {
   "cell_type": "code",
   "execution_count": null,
   "metadata": {},
   "outputs": [],
   "source": [
    "# plot PDP\n",
    "print(\"plotting PDP...\")\n",
    "PDP = computePDP(X,Nfft)\n",
    "plt.figure(figsize=(20,5))\n",
    "plt.plot(dist_vec,convert2db(PDP))\n",
    "plt.ylim((-50,50))\n",
    "# plt.savefig(f'{cur_folder}/plots/PDP/PDP_frame_{frame}.png')\n",
    "plt.show()\n",
    "plt.close()\n",
    "print(\"...done.\")\n",
    "print(\"\")"
   ]
  },
  {
   "cell_type": "code",
   "execution_count": null,
   "metadata": {},
   "outputs": [],
   "source": [
    "# plot 3D point cloud\n",
    "if (min([len(xgrid),len(ygrid),len(zgrid)])<2):\n",
    "    print(\"not 3D data...\")\n",
    "print(\"plotting 3D point cloud...\")\n",
    "th = abs(y_cart)>1500\n",
    "plt.ion()\n",
    "fig = plt.figure(figsize=(10,10))\n",
    "ax = fig.add_subplot(projection='3d')   \n",
    "ax.scatter(Xgrid[th],Ygrid[th],Zgrid[th])\n",
    "scatter_arr = np.array([Xgrid[th],Ygrid[th],Zgrid[th]])\n",
    "np.save(f\"{cur_folder}/processed_data/scatter_frame_{frame}.npy\", scatter_arr)\n",
    "# ax.scatter(Xgrid*th,Ygrid*th,Zgrid*th, c='blue')\n",
    "ax.view_init(0, 0)\n",
    "if frame == 0:\n",
    "    ax.set_title('Point Cloud')\n",
    "    ax.set_xlabel('x')\n",
    "    ax.set_ylabel('y')\n",
    "    ax.set_label('z')\n",
    "    ax.set_aspect('auto')\n",
    "# plt.savefig(f'{cur_folder}/plots/point_cloud/point_cloud_frame_{frame}.png')\n",
    "plt.close()\n",
    "print(\"...done.\")\n"
   ]
  }
 ],
 "metadata": {
  "kernelspec": {
   "display_name": "Python 3.7.13 ('vtrigU')",
   "language": "python",
   "name": "python3"
  },
  "language_info": {
   "name": "python",
   "version": "3.7.13"
  },
  "orig_nbformat": 4,
  "vscode": {
   "interpreter": {
    "hash": "8ee8495c7123b0a14063efe5453765e2dbba7daec9b63fd63d79e486ea46adb6"
   }
  }
 },
 "nbformat": 4,
 "nbformat_minor": 2
}
