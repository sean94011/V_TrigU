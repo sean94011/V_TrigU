{
 "cells": [
  {
   "cell_type": "code",
   "execution_count": 153,
   "metadata": {},
   "outputs": [],
   "source": [
    "# import libraries\n",
    "import vtrigU as vtrig\n",
    "import numpy as np\n",
    "import matplotlib.pyplot as plt\n",
    "from numpy.linalg import norm\n",
    "from math import ceil, log\n",
    "from scipy import constants\n",
    "from vtrigU_helper_functions import *\n",
    "from tempfile import TemporaryFile\n",
    "\n",
    "# define some constants\n",
    "c = constants.c\n",
    "antsLocations = ants_locations()\n",
    "\n",
    "def convert2db(arr):\n",
    "    return 20*np.log10((np.abs(arr/np.max(np.abs(arr)))))"
   ]
  },
  {
   "cell_type": "code",
   "execution_count": 149,
   "metadata": {},
   "outputs": [],
   "source": [
    "# initialize the device\n",
    "vtrig.Init()\n",
    "\n",
    "# set setting structure\n",
    "vtrigSettings = vtrig.RecordingSettings(\n",
    "        vtrig.FrequencyRange(62.0*1000, # Start Frequency (in MHz)\n",
    "                             66.5*1000, # Stop  Frequency (in MHz)\n",
    "                             150),      # Number of Frequency Points (Maximum: 150)\n",
    "        10.0,                           # RBW (in KHz)\n",
    "        vtrig.VTRIG_U_TXMODE__HIGH_RATE  # Tx Mode (LOW: 20 Tx, MED: 10 Tx, HIGH: 4 Tx)\n",
    "        ) \n",
    "\n",
    "# validate settings\n",
    "vtrig.ValidateSettings(vtrigSettings)\n",
    "\n",
    "# apply settings\n",
    "vtrig.ApplySettings(vtrigSettings)\n",
    "\n",
    "# get antenna pairs and convert to numpy matrix\n",
    "TxRxPairs = np.array(vtrig.GetAntennaPairs(vtrigSettings.mode))\n",
    "\n",
    "# get used frequencies in Hz\n",
    "freq = np.array(vtrig.GetFreqVector_MHz()) * 1e6\n",
    "\n",
    "# define constants\n",
    "N_txrx = TxRxPairs.shape[0]\n",
    "N_freq = freq.shape[0]\n",
    "\n",
    "Nfft = 2**(ceil(log(freq.shape[0],2))+1)\n",
    "Ts = 1/Nfft/(freq[1]-freq[0]+1e-16) # Avoid nan checks\n",
    "time_vec = np.linspace(0,Ts*(Nfft-1),num=Nfft)\n",
    "dist_vec = time_vec*(c/2) # distance in meters"
   ]
  },
  {
   "cell_type": "code",
   "execution_count": 103,
   "metadata": {},
   "outputs": [
    {
     "name": "stderr",
     "output_type": "stream",
     "text": [
      "c:\\Users\\SCKY\\.conda\\envs\\vtrigU\\lib\\site-packages\\ipykernel_launcher.py:26: ComplexWarning: Casting complex values to real discards the imaginary part\n"
     ]
    }
   ],
   "source": [
    "xgrid = np.array([0.18,0.18])\n",
    "ygrid = np.arange(-0.3, 0.3+0.03, 0.03)\n",
    "zgrid = np.arange( 0.1, 1+0.02,   0.02)\n",
    "[Xgrid,Ygrid,Zgrid] = np.meshgrid(xgrid,ygrid,zgrid)\n",
    "\n",
    "src = np.stack((Xgrid, Ygrid, Zgrid),3).reshape((-1,3,1,1))\n",
    "src2 = np.transpose(src,[2,1,3,0])\n",
    " \n",
    "# Use Radar equation to find total loss\n",
    "# Pe/Ps = (Gtx*Grx*RCS*lambda^2)/((4pi)^3*|Rtx|^2*|Rrx|^2)\n",
    "Rvec = src2 - np.expand_dims(antsLocations,axis=[2,3])\n",
    "\n",
    "Rmag = np.expand_dims(norm(Rvec,axis=1),axis=1)\n",
    "Rtheta = np.expand_dims(np.arctan2(norm(Rvec[:,0:1,:,:],axis=1),Rvec[:,2,:,:]),axis=1)\n",
    "Rphi = np.expand_dims(np.arctan2(Rvec[:,1,:,:],Rvec[:,0,:,:]),axis=1)\n",
    "Sphase = 2*np.pi*Rmag*np.expand_dims(freq,axis=[0,2,3])/c #Electrical Length in Radians\n",
    "curRCS = 1 #m^2\n",
    "curLambda = c/freq \n",
    "csf = np.sqrt(curRCS)*curLambda/((4*np.pi)**(3/2)) \n",
    "Smag = 10**(5.8/20)*RadiationPattern(Rtheta,Rphi)/Rmag\n",
    "\n",
    "H2 = np.zeros((len(TxRxPairs),len(freq),1,src2.shape[3]))\n",
    "for i in range(len(TxRxPairs)):\n",
    "    tx = TxRxPairs[i,0]-1\n",
    "    rx = TxRxPairs[i,1]-1\n",
    "    H2[i,:,:,:] = 1/(csf.reshape(1,-1,1,1)*Smag[tx,:,:,:]*Smag[rx,:,:,:]*np.exp(-1j*(Sphase[tx,:,:,:]+Sphase[rx,:,:,:])))\n",
    "\n",
    "H2 = np.transpose(H2,[3,0,1,2]).reshape((src2.shape[3],-1))"
   ]
  },
  {
   "cell_type": "code",
   "execution_count": 152,
   "metadata": {},
   "outputs": [],
   "source": [
    "nrecs = 10\n",
    "calFrame = []\n",
    "for i in range(nrecs):\n",
    "    vtrig.Record()\n",
    "    rec = vtrig.GetRecordingResult()\n",
    "    recArr = []\n",
    "    for key in rec.keys():\n",
    "        recArr.append(rec[key])\n",
    "    calFrame.append(np.array(recArr))\n",
    "calFrame = np.mean(calFrame,axis=0)\n",
    "\n",
    "nframes = 100\n",
    "for i in range(nframes):\n",
    "    vtrig.Record()\n",
    "    rec = vtrig.GetRecordingResult()\n",
    "    recArr = []\n",
    "    for key in rec.keys():\n",
    "        recArr.append(rec[key])\n",
    "    X = np.array(recArr)\n",
    "\n",
    "\n",
    "    x = np.fft.ifft(X,Nfft,1)\n",
    "    PDP = norm(x,axis=0)\n",
    "    plt.figure(1,figsize=(10,8))\n",
    "    plt.plot(dist_vec,convert2db(PDP))\n",
    "    plt.ylim((-50,50))\n",
    "    plt.savefig(\"PDP.jpeg\")\n",
    "    plt.close()\n"
   ]
  },
  {
   "cell_type": "code",
   "execution_count": 158,
   "metadata": {},
   "outputs": [],
   "source": []
  },
  {
   "cell_type": "code",
   "execution_count": null,
   "metadata": {},
   "outputs": [],
   "source": []
  }
 ],
 "metadata": {
  "kernelspec": {
   "display_name": "Python 3.7.13 ('vtrigU')",
   "language": "python",
   "name": "python3"
  },
  "language_info": {
   "codemirror_mode": {
    "name": "ipython",
    "version": 3
   },
   "file_extension": ".py",
   "mimetype": "text/x-python",
   "name": "python",
   "nbconvert_exporter": "python",
   "pygments_lexer": "ipython3",
   "version": "3.7.13"
  },
  "orig_nbformat": 4,
  "vscode": {
   "interpreter": {
    "hash": "8ee8495c7123b0a14063efe5453765e2dbba7daec9b63fd63d79e486ea46adb6"
   }
  }
 },
 "nbformat": 4,
 "nbformat_minor": 2
}
