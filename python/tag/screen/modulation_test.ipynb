{
 "cells": [
  {
   "cell_type": "code",
   "execution_count": null,
   "metadata": {},
   "outputs": [],
   "source": [
    "import numpy as np\n",
    "from matplotlib import pyplot as plt\n",
    "import os"
   ]
  },
  {
   "cell_type": "code",
   "execution_count": null,
   "metadata": {},
   "outputs": [],
   "source": [
    "datapath = '../../../data/tv-color/red-black-2Hz/'\n",
    "recData = np.load(os.path.join(datapath, 'recording.npy'))\n",
    "cfg = np.load(os.path.join(datapath, './config.npy'), allow_pickle=True).item()"
   ]
  },
  {
   "cell_type": "code",
   "execution_count": null,
   "metadata": {},
   "outputs": [],
   "source": [
    "nfft = cfg['nfft']\n",
    "dist_vec = cfg['dist_vec']"
   ]
  },
  {
   "cell_type": "code",
   "execution_count": null,
   "metadata": {},
   "outputs": [],
   "source": [
    "rp = np.fft.ifft(recData[:, 0, :], axis=1, n=nfft) # frames, range bins\n",
    "\n",
    "plt.imshow(np.abs(rp.T), aspect='auto')"
   ]
  },
  {
   "cell_type": "code",
   "execution_count": null,
   "metadata": {},
   "outputs": [],
   "source": [
    "nfft_doppler = 256\n",
    "rd = np.fft.fft(rp, axis=0, n=nfft_doppler) # doppler, range bins"
   ]
  },
  {
   "cell_type": "code",
   "execution_count": null,
   "metadata": {},
   "outputs": [],
   "source": [
    "freq_vec = np.arange(nfft_doppler) * 10 / nfft_doppler\n",
    "plt.pcolormesh(freq_vec[3:nfft_doppler//2], dist_vec, np.abs(rd[3:nfft_doppler//2, :].T))\n",
    "plt.ylabel(\"Range (m)\")\n",
    "plt.xlabel(\"Frequency (Hz)\")\n",
    "plt.title(\"Range doppler\")"
   ]
  },
  {
   "cell_type": "code",
   "execution_count": null,
   "metadata": {},
   "outputs": [],
   "source": [
    "tv_bin = np.argmax(np.sum(np.abs(rp), axis=0)[:nfft//2], axis=0)\n",
    "tv_bin"
   ]
  },
  {
   "cell_type": "code",
   "execution_count": null,
   "metadata": {},
   "outputs": [],
   "source": [
    "plt.plot(freq_vec[1:nfft_doppler//2], np.abs(rd[1:nfft_doppler//2, tv_bin]))\n",
    "plt.xlabel(\"Frequency (Hz)\")\n",
    "plt.ylabel(\"Magnitude\")\n",
    "plt.title(\"Range doppler at screen range bin\")"
   ]
  },
  {
   "cell_type": "code",
   "execution_count": null,
   "metadata": {},
   "outputs": [],
   "source": [
    "txData = np.reshape(recData, (recData.shape[0] * 20, 20, recData.shape[2]))\n",
    "txData = txData[:, 0, :] # frames * tx, steps\n",
    "rp_tx = np.fft.ifft(txData, axis=1, n=nfft) # frames, range bins\n",
    "plt.pcolormesh(np.arange(2000), dist_vec[:200], np.abs(rp_tx[:, :200].T))\n",
    "plt.ylabel(\"Range (m)\")\n",
    "plt.xlabel(\"Frames * Tx\")"
   ]
  },
  {
   "cell_type": "code",
   "execution_count": null,
   "metadata": {},
   "outputs": [],
   "source": [
    "nfft_tx_doppler = 4096\n",
    "rd_tx = np.fft.fft(rp_tx, axis=0, n=nfft_tx_doppler) # doppler, range bins\n",
    "fs_tx = 1 / (0.13 / 20)\n",
    "freq_tx_vec = np.arange(nfft_tx_doppler) * fs_tx / nfft_tx_doppler\n",
    "plt.pcolormesh(freq_tx_vec[1:nfft_tx_doppler//2], dist_vec[:100], np.abs(rd_tx[1:nfft_tx_doppler//2, :100].T))\n",
    "plt.ylabel(\"Range (m)\")\n",
    "plt.xlabel(\"Frequency (Hz)\")"
   ]
  },
  {
   "cell_type": "code",
   "execution_count": null,
   "metadata": {},
   "outputs": [],
   "source": [
    "plt.plot(freq_tx_vec[1:nfft_tx_doppler//2], np.abs(rd_tx[1:nfft_tx_doppler//2, tv_bin]))"
   ]
  }
 ],
 "metadata": {
  "kernelspec": {
   "display_name": "Python 3",
   "language": "python",
   "name": "python3"
  },
  "language_info": {
   "codemirror_mode": {
    "name": "ipython",
    "version": 3
   },
   "file_extension": ".py",
   "mimetype": "text/x-python",
   "name": "python",
   "nbconvert_exporter": "python",
   "pygments_lexer": "ipython3",
   "version": "3.11.1"
  }
 },
 "nbformat": 4,
 "nbformat_minor": 2
}
