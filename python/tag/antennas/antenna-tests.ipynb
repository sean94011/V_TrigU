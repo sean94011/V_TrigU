{
 "cells": [
  {
   "cell_type": "code",
   "execution_count": null,
   "metadata": {},
   "outputs": [],
   "source": [
    "import numpy as np\n",
    "from matplotlib import pyplot as plt\n",
    "import os"
   ]
  },
  {
   "cell_type": "code",
   "execution_count": null,
   "metadata": {},
   "outputs": [],
   "source": [
    "datapath = '../../../data/antenna-only/'\n",
    "cases = ['no-antenna', 'single-antenna', 'dual-antenna']"
   ]
  },
  {
   "cell_type": "code",
   "execution_count": null,
   "metadata": {},
   "outputs": [],
   "source": [
    "reference = np.load(os.path.join(datapath, 'no-antenna', 'recording.npy'))\n",
    "# reference = np.mean(reference[:, 0, :], axis=0)\n",
    "reference = reference[50, 0, :]\n",
    "reference.shape"
   ]
  },
  {
   "cell_type": "code",
   "execution_count": null,
   "metadata": {},
   "outputs": [],
   "source": [
    "plt.subplots(1, 3, figsize=(15, 5))\n",
    "for i, case in enumerate(cases):\n",
    "    data = np.load(os.path.join(datapath, case, 'recording.npy'))\n",
    "    cfg = np.load(os.path.join(datapath, case, 'config.npy'), allow_pickle=True).item()\n",
    "    nfft = cfg['nfft']\n",
    "    dist_vec = cfg['dist_vec']\n",
    "    rp = np.fft.ifft(data[:, 0, :], axis=1, n=nfft)\n",
    "    range_bin = np.argmax(dist_vec > 0.3)\n",
    "\n",
    "    bkg_sub = data - reference\n",
    "    rp_bkg_sub = np.fft.ifft(bkg_sub[:, 0, :], axis=1, n=nfft)\n",
    "\n",
    "    width = 25\n",
    "    plt.subplot(1, 3, i+1)\n",
    "    # plt.plot(dist_vec[range_bin - width : range_bin + width], np.mean(np.abs(rp_bkg_sub), axis=0)[range_bin - width : range_bin + width])\n",
    "    # plt.ylim([0, 0.00015])\n",
    "    # plt.plot(dist_vec[range_bin - width : range_bin + width], np.mean(np.abs(rp), axis=0)[range_bin - width : range_bin + width])\n",
    "    # plt.plot(dist_vec[40:-40], np.mean(np.abs(rp), axis=0)[40:-40])\n",
    "    # plt.ylim([1e-5, 7e-5])\n",
    "    # plt.ylim([0, 0.00015])\n",
    "    plt.plot(dist_vec, np.mean(np.abs(rp_bkg_sub), axis=0))\n",
    "    plt.plot(dist_vec, np.mean(np.abs(rp), axis=0))\n",
    "    plt.legend([\"Background subtracted\", \"Raw\"])\n",
    "    plt.xlabel('Range (m)')\n",
    "    plt.ylabel('Magnitude')\n",
    "    plt.title(\"Range profile, \" + case)"
   ]
  },
  {
   "cell_type": "code",
   "execution_count": null,
   "metadata": {},
   "outputs": [],
   "source": []
  }
 ],
 "metadata": {
  "kernelspec": {
   "display_name": "Python 3",
   "language": "python",
   "name": "python3"
  },
  "language_info": {
   "codemirror_mode": {
    "name": "ipython",
    "version": 3
   },
   "file_extension": ".py",
   "mimetype": "text/x-python",
   "name": "python",
   "nbconvert_exporter": "python",
   "pygments_lexer": "ipython3",
   "version": "3.11.1"
  }
 },
 "nbformat": 4,
 "nbformat_minor": 2
}
