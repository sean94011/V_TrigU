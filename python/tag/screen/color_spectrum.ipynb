{
 "cells": [
  {
   "cell_type": "code",
   "execution_count": null,
   "metadata": {},
   "outputs": [],
   "source": [
    "import numpy as np\n",
    "from matplotlib import pyplot as plt\n",
    "import os"
   ]
  },
  {
   "cell_type": "code",
   "execution_count": null,
   "metadata": {},
   "outputs": [],
   "source": [
    "datapath = '../../../data/tv-color/'\n",
    "colors = ['black', 'red', 'green', 'blue']"
   ]
  },
  {
   "cell_type": "code",
   "execution_count": null,
   "metadata": {},
   "outputs": [],
   "source": [
    "cfg = np.load(datapath + 'black/config.npy', allow_pickle=True).item()\n",
    "nfft = cfg['nfft']\n",
    "dist_vec = cfg['dist_vec']"
   ]
  },
  {
   "cell_type": "code",
   "execution_count": null,
   "metadata": {},
   "outputs": [],
   "source": [
    "def get_rp(recData, calData):\n",
    "    rp = np.fft.ifft(recData[:, 0, :], n=nfft, axis=1)\n",
    "    return rp, np.arange(rp.shape[0]), dist_vec, 'Frames', 'Range (m)', 'Range Profile'"
   ]
  },
  {
   "cell_type": "code",
   "execution_count": null,
   "metadata": {},
   "outputs": [],
   "source": [
    "def plot_all(fcn):\n",
    "    ncolors = len(colors)\n",
    "    fig, axes = plt.subplots(1, ncolors, figsize=(16, 9))\n",
    "    for i, color in enumerate(colors):\n",
    "        calData = np.load(datapath + color + '/calibration.npy')\n",
    "        recData = np.load(datapath + color + '/recording.npy')\n",
    "        data, x, y, xlabel, ylabel, title = fcn(recData, calData)\n",
    "        axes[i].pcolormesh(x, y, np.abs(data).T)\n",
    "        axes[i].set_title('{}: {}'.format(color, title))\n",
    "        axes[i].set_xlabel(xlabel)\n",
    "        axes[i].set_ylabel(ylabel)\n",
    "    \n",
    "plot_all(get_rp)"
   ]
  },
  {
   "cell_type": "code",
   "execution_count": null,
   "metadata": {},
   "outputs": [],
   "source": [
    "# Leverage Tx Information\n",
    "def get_tx_rd(recData, calData):\n",
    "    recData -= calData[0, :, :]\n",
    "    # Reshape (frames, tx*rx, step) -> (frames * tx, rx, step)\n",
    "    recData = np.reshape(recData, (recData.shape[0] * 20, 20, recData.shape[2]))\n",
    "    recData = recData[:, 0, :]"
   ]
  }
 ],
 "metadata": {
  "kernelspec": {
   "display_name": "Python 3",
   "language": "python",
   "name": "python3"
  },
  "language_info": {
   "codemirror_mode": {
    "name": "ipython",
    "version": 3
   },
   "file_extension": ".py",
   "mimetype": "text/x-python",
   "name": "python",
   "nbconvert_exporter": "python",
   "pygments_lexer": "ipython3",
   "version": "3.11.1"
  }
 },
 "nbformat": 4,
 "nbformat_minor": 2
}
