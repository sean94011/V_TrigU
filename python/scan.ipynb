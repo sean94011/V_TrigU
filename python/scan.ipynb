{
 "cells": [
  {
   "cell_type": "code",
   "execution_count": 11,
   "metadata": {},
   "outputs": [],
   "source": [
    "# import libraries\n",
    "import datetime\n",
    "import os\n",
    "import time\n",
    "import serial\n",
    "from math import ceil, log\n",
    "\n",
    "import matplotlib.pyplot as plt\n",
    "import numpy as np\n",
    "import vtrigU as vtrig\n",
    "import isens_vtrigU as itrig\n",
    "from numpy.linalg import norm\n",
    "from scipy import constants\n",
    "\n",
    "# define some constants\n",
    "c = constants.c"
   ]
  },
  {
   "cell_type": "code",
   "execution_count": null,
   "metadata": {},
   "outputs": [],
   "source": [
    "# connect to the motionstage\n",
    "arduino = serial.Serial(port='COM3', baudrate=9600, timeout=90)\n"
   ]
  },
  {
   "cell_type": "code",
   "execution_count": null,
   "metadata": {},
   "outputs": [],
   "source": [
    "\n",
    "def write_read(x):\n",
    "    arduino.write(bytes(x, 'utf-8'))\n",
    "    time.sleep(0.05)"
   ]
  },
  {
   "cell_type": "code",
   "execution_count": 80,
   "metadata": {},
   "outputs": [],
   "source": [
    "# close the motion stage if necessary\n",
    "arduino.close()"
   ]
  },
  {
   "cell_type": "code",
   "execution_count": 12,
   "metadata": {},
   "outputs": [
    {
     "name": "stdout",
     "output_type": "stream",
     "text": [
      "69.0\n",
      "Rres = 0.021413747 m\n",
      "Rmax = 3.21206205 m\n"
     ]
    }
   ],
   "source": [
    "# Compute resolution & max range\n",
    "# Rmax = 4\n",
    "BW = 7e9\n",
    "Rmax = 75*c/BW\n",
    "print(62.0+BW/1000000000)\n",
    "Rres = c/(2*BW)\n",
    "print(f\"Rres = {Rres} m\")\n",
    "print(f\"Rmax = {Rmax} m\")"
   ]
  },
  {
   "cell_type": "code",
   "execution_count": 13,
   "metadata": {},
   "outputs": [],
   "source": [
    "# initialize the device\n",
    "vtrig.Init()\n",
    "\n",
    "# set setting structure\n",
    "vtrigSettings = vtrig.RecordingSettings(\n",
    "        vtrig.FrequencyRange(62.0*1000, # Start Frequency (in MHz)\n",
    "                             69.0*1000, # Stop  Frequency (in MHz) (66.5 for 5m) (68.0 for 3m)\n",
    "                             150),      # Number of Frequency Points (Maximum: 150)\n",
    "        510.0,                           # RBW (in KHz)\n",
    "        vtrig.VTRIG_U_TXMODE__LOW_RATE  # Tx Mode (LOW: 20 Tx, MED: 10 Tx, HIGH: 4 Tx)\n",
    "        ) \n",
    "\n",
    "# validate settings\n",
    "vtrig.ValidateSettings(vtrigSettings)\n",
    "\n",
    "# apply settings\n",
    "vtrig.ApplySettings(vtrigSettings)\n",
    "\n",
    "# get antenna pairs and convert to numpy matrix\n",
    "TxRxPairs = np.array(vtrig.GetAntennaPairs(vtrigSettings.mode))\n",
    "\n",
    "# get used frequencies in Hz\n",
    "freq = np.array(vtrig.GetFreqVector_MHz()) * 1e6\n",
    "\n",
    "# define constants\n",
    "N_txrx = TxRxPairs.shape[0]\n",
    "N_freq = freq.shape[0]\n",
    "\n",
    "Nfft = 2**(ceil(log(freq.shape[0],2))+1)\n",
    "Ts = 1/Nfft/(freq[1]-freq[0]+1e-16) # Avoid nan checks\n",
    "time_vec = np.linspace(0,Ts*(Nfft-1),num=Nfft)\n",
    "dist_vec = time_vec*(c/2) # distance in meters\n",
    "\n",
    "np.save(\"./constants/freq.npy\",freq)\n",
    "np.save(\"./constants/TxRxPairs.npy\", TxRxPairs)"
   ]
  },
  {
   "cell_type": "code",
   "execution_count": 14,
   "metadata": {},
   "outputs": [
    {
     "name": "stdout",
     "output_type": "stream",
     "text": [
      "calibrating...\n",
      "calibration matrix collected!\n"
     ]
    }
   ],
   "source": [
    "def rec2arr(rec):\n",
    "    recArr = []\n",
    "    for key in rec.keys():\n",
    "        recArr.append(rec[key])\n",
    "    return np.array(recArr)\n",
    "\n",
    "# Record the calibration frames\n",
    "print(\"calibrating...\")\n",
    "nrecs = 10\n",
    "calFrame = []\n",
    "for i in range(nrecs):\n",
    "    vtrig.Record()\n",
    "    rec = vtrig.GetRecordingResult()\n",
    "    recArr = rec2arr(rec)\n",
    "    calFrame.append(recArr)\n",
    "calFrame = np.mean(calFrame,axis=0)\n",
    "print(\"calibration matrix collected!\")"
   ]
  },
  {
   "cell_type": "code",
   "execution_count": 15,
   "metadata": {},
   "outputs": [
    {
     "name": "stdout",
     "output_type": "stream",
     "text": [
      "recording...\n",
      "record done!\n"
     ]
    }
   ],
   "source": [
    "# define how many frames for the recording\n",
    "nframes = 100\n",
    "# np.save(\"./constants/nframes.npy\",nframes)\n",
    "\n",
    "# write_read(\"-450\")\n",
    "# Record\n",
    "print(\"recording...\")\n",
    "recArrs = []\n",
    "for i in range(nframes):\n",
    "    # write_read(str(motion_stage[i]))\n",
    "    vtrig.Record()\n",
    "    rec = vtrig.GetRecordingResult()\n",
    "    recArrs.append(rec2arr(rec))\n",
    "print(\"record done!\")"
   ]
  },
  {
   "cell_type": "code",
   "execution_count": 16,
   "metadata": {},
   "outputs": [
    {
     "name": "stdout",
     "output_type": "stream",
     "text": [
      "saving collected data...\n",
      "done!\n"
     ]
    }
   ],
   "source": [
    "#human 1.3m\n",
    "fname = \"./data/20230410-horn/1s-semi\"\n",
    "cur_time = datetime.datetime.now()\n",
    "print(\"saving collected data...\")\n",
    "np.save(f\"{fname}/calibration.npy\",calFrame)\n",
    "np.save(f\"{fname}/recording.npy\",recArrs)\n",
    "print(\"done!\")"
   ]
  },
  {
   "cell_type": "code",
   "execution_count": 1,
   "metadata": {},
   "outputs": [
    {
     "name": "stdout",
     "output_type": "stream",
     "text": [
      "/Users/seanyao/Documents/Graduate_Research/V_TrigU/python\n"
     ]
    }
   ],
   "source": [
    "!pwd"
   ]
  },
  {
   "cell_type": "code",
   "execution_count": null,
   "metadata": {},
   "outputs": [],
   "source": []
  }
 ],
 "metadata": {
  "kernelspec": {
   "display_name": "vtrigU",
   "language": "python",
   "name": "python3"
  },
  "language_info": {
   "codemirror_mode": {
    "name": "ipython",
    "version": 3
   },
   "file_extension": ".py",
   "mimetype": "text/x-python",
   "name": "python",
   "nbconvert_exporter": "python",
   "pygments_lexer": "ipython3",
   "version": "3.11.1"
  },
  "orig_nbformat": 4,
  "vscode": {
   "interpreter": {
    "hash": "ce6c9480ead5806d8707fdf471c1b51fe005d6c1ebdb4d48a9223ca8376afc8a"
   }
  }
 },
 "nbformat": 4,
 "nbformat_minor": 2
}
