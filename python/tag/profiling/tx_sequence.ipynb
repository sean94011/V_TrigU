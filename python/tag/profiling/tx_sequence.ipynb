{
 "cells": [
  {
   "cell_type": "code",
   "execution_count": null,
   "metadata": {},
   "outputs": [],
   "source": [
    "import numpy as np\n",
    "from matplotlib import pyplot as plt\n",
    "import os"
   ]
  },
  {
   "cell_type": "code",
   "execution_count": null,
   "metadata": {},
   "outputs": [],
   "source": [
    "datapath = '../../../data/radar-tests/cr-moving/'\n",
    "recData = np.load(datapath + 'recording.npy') # frame, txrx, step\n",
    "cfg = np.load(datapath + 'config.npy', allow_pickle=True).item()"
   ]
  },
  {
   "cell_type": "code",
   "execution_count": null,
   "metadata": {},
   "outputs": [],
   "source": [
    "nfft = cfg['nfft']\n",
    "dist_vec = cfg['dist_vec']"
   ]
  },
  {
   "cell_type": "code",
   "execution_count": null,
   "metadata": {},
   "outputs": [],
   "source": [
    "rp = np.fft.ifft(recData[:, 0, :], n=nfft, axis=1)\n",
    "frame_cutoff = 40\n",
    "plt.pcolormesh(np.arange(frame_cutoff), dist_vec, np.abs(rp[:frame_cutoff, :]).T)"
   ]
  },
  {
   "cell_type": "code",
   "execution_count": null,
   "metadata": {},
   "outputs": [],
   "source": [
    "# Inside one frame, range-profile for every tx-rx pair\n",
    "# recData = np.load('../../../data/radar-tests/0.9m-cr/recording.npy') # frame, txrx, step\n",
    "\n",
    "target_frame = 9\n",
    "rp_single_frame = np.fft.ifft(recData[target_frame, :, :], n=nfft, axis=1)\n",
    "range_start = 10\n",
    "range_end = 100\n",
    "rp_single_frame = rp_single_frame[:, range_start:range_end]\n",
    "plt.pcolormesh(np.arange(400), dist_vec[range_start:range_end], np.abs(rp_single_frame.T))\n",
    "plt.xlabel('Tx-Rx pair')\n",
    "plt.ylabel('Range bin (m)')"
   ]
  },
  {
   "cell_type": "code",
   "execution_count": null,
   "metadata": {},
   "outputs": [],
   "source": [
    "# For each tx-rx pair, max range bin index for frame 9\n",
    "max_range_bin = np.argmax(np.abs(rp_single_frame), axis=1)\n",
    "txrx_max_range = max_range_bin.reshape(20, -1)\n",
    "plt.imshow(txrx_max_range, aspect='auto')\n",
    "plt.xlabel('Rx')\n",
    "plt.ylabel('Tx')\n",
    "plt.title('Max range bin for (Tx, Rx) pair colormap')\n"
   ]
  },
  {
   "cell_type": "code",
   "execution_count": null,
   "metadata": {},
   "outputs": [],
   "source": [
    "plt.plot(np.abs(txrx_max_range[8]))"
   ]
  },
  {
   "cell_type": "code",
   "execution_count": null,
   "metadata": {},
   "outputs": [],
   "source": [
    "txData = np.reshape(recData, (recData.shape[0] * 20, 20, recData.shape[2]))\n",
    "txData = txData[:, 0, :] # frames * tx, steps\n",
    "rp_tx = np.fft.ifft(txData, axis=1, n=nfft) # frames, range bins\n",
    "\n",
    "nfft_tx_doppler = 4096\n",
    "rd_tx = np.fft.fft(rp_tx, axis=0, n=nfft_tx_doppler) # doppler, range bins\n",
    "fs_tx = 1 / (0.13 / 20)\n",
    "freq_tx_vec = np.arange(nfft_tx_doppler) * fs_tx / nfft_tx_doppler\n",
    "plt.pcolormesh(freq_tx_vec[1:nfft_tx_doppler//2], dist_vec[:100], np.abs(rd_tx[1:nfft_tx_doppler//2, :100].T))\n",
    "plt.ylabel(\"Range (m)\")\n",
    "plt.xlabel(\"Frequency (Hz)\")"
   ]
  },
  {
   "cell_type": "code",
   "execution_count": null,
   "metadata": {},
   "outputs": [],
   "source": [
    "# Corner Reflector Test\n",
    "\n",
    "def cr_reference():\n",
    "    recData = np.load('../../../data/radar-tests/0.9m-cr/recording.npy') # frame, txrx, step\n",
    "    txData = np.reshape(recData, (recData.shape[0] * 20, 20, recData.shape[2]))\n",
    "    txData = txData[:, 0, :] # frames * tx, steps\n",
    "    rp_tx = np.fft.ifft(txData, axis=1, n=nfft) # frames, range bins\n",
    "    plt.pcolormesh(np.arange(20), dist_vec[20:300], np.abs(rp_tx[:20, 20:300].T))\n",
    "    plt.ylabel(\"Range (m)\")\n",
    "    plt.xlabel(\"Frames * Tx\")\n",
    "\n",
    "    # nfft_tx_doppler = 4096\n",
    "    # rd_tx = np.fft.fft(rp_tx, axis=0, n=nfft_tx_doppler) # doppler, range bins\n",
    "    # fs_tx = 1 / (0.13 / 20)\n",
    "    # freq_tx_vec = np.arange(nfft_tx_doppler) * fs_tx / nfft_tx_doppler\n",
    "    # plt.pcolormesh(freq_tx_vec[1:nfft_tx_doppler//2], dist_vec[20:250], np.abs(rd_tx[1:nfft_tx_doppler//2, 20:250].T))\n",
    "    # plt.ylabel(\"Range (m)\")\n",
    "    # plt.xlabel(\"Frequency (Hz)\")\n",
    "\n",
    "cr_reference()"
   ]
  }
 ],
 "metadata": {
  "kernelspec": {
   "display_name": "Python 3",
   "language": "python",
   "name": "python3"
  },
  "language_info": {
   "codemirror_mode": {
    "name": "ipython",
    "version": 3
   },
   "file_extension": ".py",
   "mimetype": "text/x-python",
   "name": "python",
   "nbconvert_exporter": "python",
   "pygments_lexer": "ipython3",
   "version": "3.11.1"
  }
 },
 "nbformat": 4,
 "nbformat_minor": 2
}
