{
 "cells": [
  {
   "cell_type": "code",
   "execution_count": null,
   "metadata": {},
   "outputs": [],
   "source": [
    "# import libraries\n",
    "import datetime\n",
    "import os\n",
    "import time\n",
    "from math import ceil, log\n",
    "\n",
    "import matplotlib.pyplot as plt\n",
    "import numpy as np\n",
    "import vtrigU as vtrig\n",
    "from numpy.linalg import norm\n",
    "from scipy import constants\n",
    "\n",
    "from vtrigU_helper_functions import *\n",
    "\n",
    "# define some constants\n",
    "c = constants.c\n",
    "antsLocations = ants_locations()"
   ]
  },
  {
   "cell_type": "code",
   "execution_count": null,
   "metadata": {},
   "outputs": [],
   "source": [
    "# initialize the device\n",
    "vtrig.Init()\n",
    "\n",
    "# set setting structure\n",
    "vtrigSettings = vtrig.RecordingSettings(\n",
    "        vtrig.FrequencyRange(62.0*1000, # Start Frequency (in MHz)\n",
    "                             69.0*1000, # Stop  Frequency (in MHz) (66.5 for 5m) (68.0 for 3m)\n",
    "                             150),      # Number of Frequency Points (Maximum: 150)\n",
    "        510.0,                           # RBW (in KHz)\n",
    "        vtrig.VTRIG_U_TXMODE__LOW_RATE  # Tx Mode (LOW: 20 Tx, MED: 10 Tx, HIGH: 4 Tx)\n",
    "        ) \n",
    "\n",
    "# validate settings\n",
    "vtrig.ValidateSettings(vtrigSettings)\n",
    "\n",
    "# apply settings\n",
    "vtrig.ApplySettings(vtrigSettings)\n",
    "\n",
    "# get antenna pairs and convert to numpy matrix\n",
    "TxRxPairs = np.array(vtrig.GetAntennaPairs(vtrigSettings.mode))\n",
    "\n",
    "# get used frequencies in Hz\n",
    "freq = np.array(vtrig.GetFreqVector_MHz()) * 1e6\n",
    "\n",
    "# define constants\n",
    "N_txrx = TxRxPairs.shape[0]\n",
    "N_freq = freq.shape[0]\n",
    "\n",
    "Nfft = 2**(ceil(log(freq.shape[0],2))+1)\n",
    "Ts = 1/Nfft/(freq[1]-freq[0]+1e-16) # Avoid nan checks\n",
    "time_vec = np.linspace(0,Ts*(Nfft-1),num=Nfft)\n",
    "dist_vec = time_vec*(c/2) # distance in meters\n",
    "\n",
    "np.save(\"./constants/freq.npy\",freq)\n",
    "np.save(\"./constants/TxRxPairs.npy\", TxRxPairs)"
   ]
  },
  {
   "cell_type": "code",
   "execution_count": null,
   "metadata": {},
   "outputs": [],
   "source": [
    "# Record the calibration frames\n",
    "print(\"calibrating...\")\n",
    "nrecs = 10\n",
    "calFrame = []\n",
    "for i in range(nrecs):\n",
    "    vtrig.Record()\n",
    "    rec = vtrig.GetRecordingResult()\n",
    "    recArr = rec2arr(rec)\n",
    "    calFrame.append(recArr)\n",
    "calFrame = np.mean(calFrame,axis=0)\n",
    "print(\"calibration matrix collected!\")"
   ]
  },
  {
   "cell_type": "code",
   "execution_count": null,
   "metadata": {},
   "outputs": [],
   "source": [
    "# define how many frames for the recording\n",
    "nframes = 1000\n",
    "np.save(\"./constants/nframes.npy\",nframes)\n",
    "\n",
    "# Record\n",
    "print(\"recording...\")\n",
    "recArrs = []\n",
    "for i in range(nframes):\n",
    "    vtrig.Record()\n",
    "    rec = vtrig.GetRecordingResult()\n",
    "    recArrs.append(rec2arr(rec))\n",
    "print(\"record done!\")"
   ]
  },
  {
   "cell_type": "code",
   "execution_count": null,
   "metadata": {},
   "outputs": [],
   "source": [
    "fname = \"./data/human_sit\"\n",
    "cur_time = datetime.datetime.now()\n",
    "print(\"saving collected data...\")\n",
    "np.save(f\"{fname}/calibration.npy\",calFrame)\n",
    "np.save(f\"{fname}/recording.npy\",recArrs)\n",
    "print(\"done!\")"
   ]
  },
  {
   "cell_type": "code",
   "execution_count": null,
   "metadata": {},
   "outputs": [],
   "source": []
  }
 ],
 "metadata": {
  "language_info": {
   "name": "python"
  },
  "orig_nbformat": 4
 },
 "nbformat": 4,
 "nbformat_minor": 2
}
