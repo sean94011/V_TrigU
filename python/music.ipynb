{
 "cells": [
  {
   "cell_type": "markdown",
   "metadata": {},
   "source": [
    "# 3D MUSIC"
   ]
  },
  {
   "cell_type": "markdown",
   "metadata": {},
   "source": [
    "### Import Library"
   ]
  },
  {
   "cell_type": "code",
   "execution_count": 66,
   "metadata": {},
   "outputs": [],
   "source": [
    "import os\n",
    "import numpy as np\n",
    "from scipy.constants import c\n",
    "from matplotlib import pyplot as plt\n",
    "from pyargus.directionEstimation import *\n",
    "\n",
    "def normalization(data):\n",
    "    return (data-np.min(data))/(np.max(data)-np.min(data))\n",
    "\n",
    "def ants_locations():\n",
    "    return np.array([[-0.0275, -0.0267, 0], # tx\n",
    "                     [-0.0253, -0.0267, 0],\n",
    "                     [-0.0231, -0.0267, 0],\n",
    "                     [-0.0209, -0.0267, 0],\n",
    "                     [-0.0187, -0.0267, 0],\n",
    "                     [-0.0165, -0.0267, 0],\n",
    "                     [-0.0143, -0.0267, 0],\n",
    "                     [-0.0122, -0.0267, 0],\n",
    "                     [-0.0100, -0.0267, 0],\n",
    "                     [-0.0078, -0.0267, 0],\n",
    "                     [-0.0056, -0.0267, 0],\n",
    "                     [-0.0034, -0.0267, 0],\n",
    "                     [-0.0012, -0.0267, 0],\n",
    "                     [ 0.0009, -0.0267, 0],\n",
    "                     [ 0.0031, -0.0267, 0],\n",
    "                     [ 0.0053, -0.0267, 0],\n",
    "                     [ 0.0075, -0.0267, 0],\n",
    "                     [ 0.0097, -0.0267, 0],\n",
    "                     [ 0.0119, -0.0267, 0],\n",
    "                     [ 0.0141, -0.0267, 0],\n",
    "                     [ 0.0274, -0.0133, 0], # rx\n",
    "                     [ 0.0274, -0.0112, 0],\n",
    "                     [ 0.0274, -0.0091, 0],\n",
    "                     [ 0.0274, -0.0070, 0],\n",
    "                     [ 0.0274, -0.0049, 0],\n",
    "                     [ 0.0274, -0.0028, 0],\n",
    "                     [ 0.0274, -0.0007, 0],\n",
    "                     [ 0.0275,  0.0014, 0],\n",
    "                     [ 0.0275,  0.0035, 0],\n",
    "                     [ 0.0275,  0.0056, 0],\n",
    "                     [ 0.0275,  0.0078, 0],\n",
    "                     [ 0.0275,  0.0099, 0],\n",
    "                     [ 0.0275,  0.0120, 0],\n",
    "                     [ 0.0274,  0.0141, 0],\n",
    "                     [ 0.0274,  0.0162, 0],\n",
    "                     [ 0.0275,  0.0183, 0],\n",
    "                     [ 0.0275,  0.0204, 0],\n",
    "                     [ 0.0275,  0.0225, 0],\n",
    "                     [ 0.0275,  0.0246, 0],\n",
    "                     [ 0.0275,  0.0267, 0]])"
   ]
  },
  {
   "cell_type": "markdown",
   "metadata": {},
   "source": [
    "### Define Parameters & Load Data"
   ]
  },
  {
   "cell_type": "code",
   "execution_count": 72,
   "metadata": {},
   "outputs": [
    {
     "name": "stdout",
     "output_type": "stream",
     "text": [
      "dict_keys(['start_freq', 'stop_freq', 'n_freq', 'rbw', 'scan_profile', 'txRxPairs', 'freq', 'nfft', 'dist_vec', 'collect_time', 'sample_time'])\n"
     ]
    }
   ],
   "source": [
    "data_root = '/Users/seanyao/Library/CloudStorage/Box-Box/Vayyar Radar/' #Change to your local path\n",
    "cur_case = 'vital_signs_infant_914'\n",
    "cur_scenario = '50k_profile_2_gt_30pm_degree_0'\n",
    "\n",
    "num_tx = 20\n",
    "rbw = 100\n",
    "\n",
    "tx_arr = ants_locations()[:20,0] - ants_locations()[0,0]\n",
    "rx_arr = ants_locations()[20:,1] - ants_locations()[20,1]\n",
    "\n",
    "# num_tx = 20\n",
    "# rbw = 10\n",
    "data_path = os.path.join(data_root, cur_case, cur_scenario)\n",
    "recording = np.load(os.path.join(data_path, \"recording.npy\"))\n",
    "# calibration = np.load(os.path.join(data_path, \"calibration.npy\"))\n",
    "config = np.load(os.path.join(data_path, \"config.npy\"), allow_pickle=True).item()\n",
    "print(config.keys())\n",
    "doppler_nfft = recording.shape[0]\n",
    "range_nfft = 512\n",
    "angle_nfft = [10, 10]\n",
    "data_arr = recording"
   ]
  },
  {
   "cell_type": "markdown",
   "metadata": {},
   "source": [
    "## 3D FFT"
   ]
  },
  {
   "cell_type": "code",
   "execution_count": 73,
   "metadata": {},
   "outputs": [
    {
     "name": "stdout",
     "output_type": "stream",
     "text": [
      "(200, 400, 150)\n"
     ]
    }
   ],
   "source": [
    "# Processing\n",
    "processed_data = data_arr - np.mean(data_arr[:2,:,:], axis=0)\n",
    "range_profile = np.fft.ifft(processed_data, n=range_nfft, axis=2)\n",
    "\n",
    "print(data_arr.shape)\n",
    "\n",
    "processed_data_3d = processed_data.reshape(processed_data.shape[0], num_tx, 20, processed_data.shape[-1])\n",
    "processed_data_3d_range = np.fft.ifft(processed_data_3d, n=range_nfft, axis=3)\n",
    "processed_data_3d_range = np.fft.fft2(processed_data_3d_range, s=angle_nfft, axes=(1, 2))"
   ]
  },
  {
   "cell_type": "code",
   "execution_count": 74,
   "metadata": {},
   "outputs": [],
   "source": [
    "# Plot\n",
    "for i in range(angle_nfft[0]):\n",
    "    for j in range(angle_nfft[1]):\n",
    "        value = processed_data_3d_range[:, i, j, :]\n",
    "        doppler = np.fft.fft(np.real(value), n=doppler_nfft, axis=0)\n",
    "        doppler_slide = doppler[0:len(doppler)//2,:]\n",
    "        doppler_slide = np.abs(doppler_slide.T)\n",
    "\n",
    "        freq = config['freq']\n",
    "        Ts = 1/range_nfft/(freq[1]-freq[0]+1e-16) # Avoid nan checks\n",
    "        time_vec = np.linspace(0,Ts*(range_nfft-1),num=range_nfft)\n",
    "        dist_vec = time_vec*(c/2) # distance in meters\n",
    "\n",
    "        d = config[\"sample_time\"]\n",
    "        pulse_repetition_frequency = 1/d\n",
    "        # print(\"d\", d)\n",
    "        doppler_freq = np.fft.fftfreq(doppler_nfft,d)\n",
    "        doppler_freq = doppler_freq[doppler_freq>=0]\n",
    "\n",
    "        # plt.figure(figsize=(8,6))\n",
    "        # freq_low = np.where(doppler_freq>=0.1)[0][0]\n",
    "        # freq_high = np.where(doppler_freq<=2.0)[0][-1]\n",
    "        # range_low = np.where(dist_vec>=0.13)[0][0]\n",
    "        # range_high = np.where(dist_vec<=2)[0][-1]\n",
    "\n",
    "        # extent=[doppler_freq[freq_low],doppler_freq[freq_high],dist_vec[range_low],dist_vec[range_high]]\n",
    "        # plt.imshow((doppler_slide[range_low:range_high, freq_low:freq_high]), origin='lower', extent=extent, aspect='auto')\n",
    "        # # plt.legend()\n",
    "        # plt.colorbar()\n",
    "        # plt.xlabel(\"Doppler Frequency [Hz]\")\n",
    "        # plt.ylabel(\"Range [m]\")\n",
    "        # plt.title(f\"{i}{j}Range-Doppler Vital Sign Heatmap: {num_tx} Tx {rbw} [Hz]\")\n",
    "        # plt.grid()\n",
    "        # plt.show()"
   ]
  },
  {
   "cell_type": "markdown",
   "metadata": {},
   "source": [
    "## MUSIC"
   ]
  },
  {
   "cell_type": "markdown",
   "metadata": {},
   "source": [
    "### ToF MUSIC"
   ]
  },
  {
   "cell_type": "code",
   "execution_count": 80,
   "metadata": {},
   "outputs": [
    {
     "name": "stdout",
     "output_type": "stream",
     "text": [
      "(400, 150)\n",
      "3.0417513674196064\n"
     ]
    }
   ],
   "source": [
    "# Function Declaration\n",
    "\n",
    "def compute_tof_scanning_vector(freq, time_vec):\n",
    "    # Compute the scanning vector\n",
    "    df = freq[1] - freq[0]\n",
    "    freq_shift = np.arange(0,len(freq))\n",
    "    freq_shift =  df*freq_shift\n",
    "    scanning_vectors = np.zeros((len(freq),len(time_vec)),dtype='complex')\n",
    "    for i in range(len(time_vec)):\n",
    "        scanning_vectors[:,i] = np.exp(-1j*2*np.pi*freq_shift*time_vec[i])\n",
    "    # scanning_vectors = np.real(scanning_vectors)\n",
    "    # scanning_vectors = np.exp(1j*2*np.pi*time_vec).reshape(-1,1)\n",
    "    return scanning_vectors\n",
    "\n",
    "\n",
    "def compute_tof_music(test_signal, scanning_vectors, dist_vec, signal_dimension=3, plot=False):\n",
    "    # test_signal = test_signal.reshape(-1,1)\n",
    "\n",
    "    # Compute the correlation matrix\n",
    "    # R = np.dot(test_signal, test_signal.conj().T)\n",
    "    P = 150\n",
    "    R = spatial_smoothing(test_signal, P=P, direction=\"forward-backward\")\n",
    "\n",
    "    # Implement MUSIC for ToF\n",
    "    tof = np.zeros(np.size(scanning_vectors, 1))\n",
    "    M = np.size(R, 0)\n",
    "\n",
    "    # --- Calculation ---\n",
    "    # Determine eigenvectors and eigenvalues\n",
    "    sigmai, vi = lin.eig(R)\n",
    "    # Sorting    \n",
    "    eig_array = []\n",
    "    for i in range(M):\n",
    "        eig_array.append([np.abs(sigmai[i]),vi[:,i]])\n",
    "    eig_array = sorted(eig_array, key=lambda eig_array: eig_array[0], reverse=False)\n",
    "\n",
    "    # Generate noise subspace matrix\n",
    "    noise_dimension = M - signal_dimension    \n",
    "    E = np.zeros((M,noise_dimension),dtype=complex)\n",
    "    for i in range(noise_dimension):     \n",
    "        E[:,i] = eig_array[i][1]     \n",
    "        \n",
    "    E = np.matrix(E)    \n",
    "    theta_index=0\n",
    "    for i in range(np.size(scanning_vectors, 1)):             \n",
    "        S_theta_ = scanning_vectors[:, i]\n",
    "        S_theta_  = np.matrix(S_theta_).getT() \n",
    "        tof[theta_index]=  1/np.abs(S_theta_.getH()*(E*E.getH())*S_theta_)\n",
    "        theta_index += 1\n",
    "\n",
    "    log_scale_min = -50\n",
    "\n",
    "    tof = np.divide(np.abs(tof),np.max(np.abs(tof))) # normalization \n",
    "    tof = 10*np.log10(tof)                \n",
    "    time_index = 0        \n",
    "    for t in time_vec:                    \n",
    "        if tof[time_index] < log_scale_min:\n",
    "            tof[time_index] = log_scale_min\n",
    "        time_index += 1   \n",
    "    # tof = normalization(np.abs(tof))\n",
    "    tof = normalization(tof-np.min(tof))\n",
    "    if plot:\n",
    "        plt.figure()\n",
    "        axes = plt.axes()\n",
    "        axes.plot(dist_vec,tof)    \n",
    "        axes.set_title('ToF MUSIC estimation ',fontsize = 16)\n",
    "        axes.set_xlabel('Range [m]')\n",
    "        axes.set_ylabel('Amplitude [dB]')   \n",
    "        axes.legend([\"MUSIC\"])\n",
    "    # print(tof)\n",
    "    return tof\n",
    "\n",
    "# Compute dist_vec\n",
    "Ts = 1/len(config['freq'])/(config['freq'][1]-config['freq'][0]+1e-16)\n",
    "time_vec = np.linspace(0,Ts*(len(config['freq'])-1),num=len(config['freq']))\n",
    "dist_vec = time_vec*(c/2)"
   ]
  },
  {
   "cell_type": "code",
   "execution_count": null,
   "metadata": {},
   "outputs": [
    {
     "name": "stdout",
     "output_type": "stream",
     "text": [
      "dict_keys(['start_freq', 'stop_freq', 'n_freq', 'rbw', 'scan_profile', 'txRxPairs', 'freq', 'nfft', 'dist_vec', 'collect_time', 'sample_time'])\n"
     ]
    }
   ],
   "source": [
    "print(config.keys())"
   ]
  },
  {
   "cell_type": "code",
   "execution_count": 83,
   "metadata": {},
   "outputs": [
    {
     "data": {
      "text/plain": [
       "Text(0, 0.5, 'Magnitude')"
      ]
     },
     "execution_count": 83,
     "metadata": {},
     "output_type": "execute_result"
    },
    {
     "data": {
      "image/png": "[encoded data removed]",
      "text/plain": [
       "<Figure size 864x720 with 2 Axes>"
      ]
     },
     "metadata": {
      "needs_background": "light"
     },
     "output_type": "display_data"
    }
   ],
   "source": [
    "range_profile_ifft = np.fft.ifft(processed_data[100],n=range_nfft,axis=1)\n",
    "\n",
    "range_profile_ifft = normalization(np.linalg.norm(range_profile_ifft,axis=0))\n",
    "# range_profile_ifft[config['dist_vec']>2.5] = 0\n",
    "\n",
    "\n",
    "test_signal = processed_data[100,:,:] #- cal_arr\n",
    "scanning_vectors = compute_tof_scanning_vector(config['freq'],time_vec)\n",
    "range_profile_music = compute_tof_music(test_signal=test_signal, scanning_vectors=scanning_vectors, dist_vec=dist_vec, signal_dimension=6,plot=False)\n",
    "\n",
    "fig, axs = plt.subplots(2,figsize=(12,10))\n",
    "fig.suptitle(f'Range Profile: {cur_scenario}')\n",
    "axs[0].plot(config['dist_vec'],range_profile_ifft)\n",
    "axs[0].set_title('Method: IFFT')\n",
    "axs[0].set_xlabel('Range [m]')\n",
    "axs[0].set_ylabel('Magnitude')\n",
    "axs[1].plot(dist_vec,range_profile_music)\n",
    "axs[1].set_title('Method: MUSIC')\n",
    "axs[1].set_xlabel('Range [m]')\n",
    "axs[1].set_ylabel('Magnitude')"
   ]
  },
  {
   "cell_type": "markdown",
   "metadata": {},
   "source": [
    "### AoA / AoD MUSIC"
   ]
  },
  {
   "cell_type": "code",
   "execution_count": null,
   "metadata": {},
   "outputs": [],
   "source": [
    "# Function Declaration\n",
    "\n",
    "def compute_aoa_aod_scanning_vector(array_alignment, thetas):\n",
    "    # Compute the scanning vector\n",
    "    df = freq[1] - freq[0]\n",
    "    scanning_vectors = np.zeros((len(array_alignment),len(thetas)),dtype='complex')\n",
    "    for i in range(len(thetas)):\n",
    "        scanning_vectors[:,i] = np.exp(-1j*2*np.pi*array_alignment*np.cos(np.radians(thetas[i])))\n",
    "    # scanning_vectors = np.real(scanning_vectors)\n",
    "    # scanning_vectors = np.exp(1j*2*np.pi*time_vec).reshape(-1,1)\n",
    "    return scanning_vectors\n",
    "\n",
    "\n",
    "def compute_aoa_music(test_signal, scanning_vectors, thetas, signal_dimension=3, P=150, plot=False):\n",
    "    # test_signal = test_signal.reshape(-1,1)\n",
    "\n",
    "    # Compute the correlation matrix\n",
    "    # R = np.dot(test_signal, test_signal.conj().T)\n",
    "    R = spatial_smoothing(test_signal, P=P, direction=\"forward-backward\")\n",
    "\n",
    "    # Implement MUSIC for ToF\n",
    "    aoa = np.zeros(np.size(scanning_vectors, 1))\n",
    "    M = np.size(R, 0)\n",
    "\n",
    "    # --- Calculation ---\n",
    "    # Determine eigenvectors and eigenvalues\n",
    "    sigmai, vi = lin.eig(R)\n",
    "    # Sorting    \n",
    "    eig_array = []\n",
    "    for i in range(M):\n",
    "        eig_array.append([np.abs(sigmai[i]),vi[:,i]])\n",
    "    eig_array = sorted(eig_array, key=lambda eig_array: eig_array[0], reverse=False)\n",
    "\n",
    "    # Generate noise subspace matrix\n",
    "    noise_dimension = M - signal_dimension    \n",
    "    E = np.zeros((M,noise_dimension),dtype=complex)\n",
    "    for i in range(noise_dimension):     \n",
    "        E[:,i] = eig_array[i][1]     \n",
    "        \n",
    "    E = np.matrix(E)    \n",
    "    theta_index=0\n",
    "    for i in range(np.size(scanning_vectors, 1)):             \n",
    "        S_theta_ = scanning_vectors[:, i]\n",
    "        S_theta_  = np.matrix(S_theta_).getT() \n",
    "        tof[theta_index]=  1/np.abs(S_theta_.getH()*(E*E.getH())*S_theta_)\n",
    "        theta_index += 1\n",
    "\n",
    "    log_scale_min = -50\n",
    "\n",
    "    tof = np.divide(np.abs(tof),np.max(np.abs(tof))) # normalization \n",
    "    tof = 10*np.log10(tof)                \n",
    "    time_index = 0        \n",
    "    for t in time_vec:                    \n",
    "        if tof[time_index] < log_scale_min:\n",
    "            tof[time_index] = log_scale_min\n",
    "        time_index += 1   \n",
    "    # tof = normalization(np.abs(tof))\n",
    "    tof = normalization(tof-np.min(tof))\n",
    "    if plot:\n",
    "        plt.figure()\n",
    "        axes = plt.axes()\n",
    "        axes.plot(thetas,tof)    \n",
    "        axes.set_title('AoA/AoD MUSIC estimation ',fontsize = 16)\n",
    "        axes.set_xlabel('Angle [deg]')\n",
    "        axes.set_ylabel('Amplitude [dB]')   \n",
    "        axes.legend([\"MUSIC\"])\n",
    "    # print(tof)\n",
    "    return tof\n",
    "\n",
    "# Extract the data of the first TxRx pair in the first frame\n",
    "test_signal = data_arr[100,:,:]#-cal_arr\n",
    "test_signal = test_signal#[10,:]\n",
    "Ts = 1/len(config['freq'])/(config['freq'][1]-config['freq'][0]+1e-16)\n",
    "time_vec = np.linspace(0,Ts*(len(config['freq'])-1),num=len(config['freq']))\n",
    "dist_vec = time_vec*(c/2)\n",
    "scanning_vectors = compute_tof_scanning_vector(config['freq'],time_vec)\n",
    "test_tof = compute_tof_music(test_signal=test_signal, scanning_vectors=scanning_vectors, dist_vec=dist_vec, signal_dimension=10,plot=False)\n",
    "print(dist_vec[np.argmax(test_tof)])"
   ]
  }
 ],
 "metadata": {
  "kernelspec": {
   "display_name": "vtrigU",
   "language": "python",
   "name": "python3"
  },
  "language_info": {
   "codemirror_mode": {
    "name": "ipython",
    "version": 3
   },
   "file_extension": ".py",
   "mimetype": "text/x-python",
   "name": "python",
   "nbconvert_exporter": "python",
   "pygments_lexer": "ipython3",
   "version": "3.7.13"
  },
  "orig_nbformat": 4
 },
 "nbformat": 4,
 "nbformat_minor": 2
}
